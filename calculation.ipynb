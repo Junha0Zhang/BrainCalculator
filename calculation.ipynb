{
 "cells": [
  {
   "attachments": {},
   "cell_type": "markdown",
   "id": "c94b84f1",
   "metadata": {},
   "source": [
    "Hello, and welcome! This is the notebook for calulating the skull thickness and scalp-to-cortoex distance map, as well as the brain volume. Let's do it!\n",
    "We use open3d for distance calculation and pyvista for volume calculation. So pip install them if you haven't done so.\n"
   ]
  },
  {
   "cell_type": "code",
   "execution_count": 1,
   "id": "7ba60a90",
   "metadata": {},
   "outputs": [
    {
     "name": "stdout",
     "output_type": "stream",
     "text": [
      "Jupyter environment detected. Enabling Open3D WebVisualizer.\n",
      "[Open3D INFO] WebRTC GUI backend enabled.\n",
      "[Open3D INFO] WebRTCWindowSystem: HTTP handshake server disabled.\n"
     ]
    }
   ],
   "source": [
    "import open3d as o3d\n",
    "import numpy as np\n",
    "import os\n",
    "import fnmatch\n",
    "import dicom2nifti\n",
    "import pyvista as pv\n",
    "\n",
    "import csv"
   ]
  },
  {
   "attachments": {},
   "cell_type": "markdown",
   "id": "0ef391eb",
   "metadata": {},
   "source": [
    "This function enables interaction visualization of point clouds in open3d, so you can pick points with your mouse in the visualization window."
   ]
  },
  {
   "cell_type": "code",
   "execution_count": 99,
   "id": "8a265518",
   "metadata": {},
   "outputs": [],
   "source": [
    "def pick_points(pcd):\n",
    "    print(\"\")\n",
    "    print(\n",
    "        \"1) Please pick at least three correspondences using [shift + left click]\"\n",
    "    )\n",
    "    print(\"   Press [shift + right click] to undo point picking\")\n",
    "    print(\"2) Afther picking points, press q for close the window\")\n",
    "    vis = o3d.visualization.VisualizerWithEditing()\n",
    "    vis.create_window()\n",
    "    vis.add_geometry(pcd)\n",
    "    vis.run()  # user picks points\n",
    "    vis.destroy_window()\n",
    "    print(\"\")\n",
    "    return vis.get_picked_points()"
   ]
  },
  {
   "attachments": {},
   "cell_type": "markdown",
   "id": "8aedfc0b",
   "metadata": {},
   "source": [
    "Don't worry about this if you are using your own dataset. If you are look at this, you should be fimiliar with Python and know how to sort system files."
   ]
  },
  {
   "cell_type": "code",
   "execution_count": 100,
   "id": "0d4a3e77",
   "metadata": {},
   "outputs": [],
   "source": [
    "age_path = 'updated_ANDI'"
   ]
  },
  {
   "cell_type": "code",
   "execution_count": 101,
   "id": "0562ea9f",
   "metadata": {},
   "outputs": [],
   "source": [
    "roots = []\n",
    "for root, dirs, files in os.walk(age_path):\n",
    "    for file in files:\n",
    "        if file.endswith('.obj'):\n",
    "            roots += [root]\n",
    "            break"
   ]
  },
  {
   "cell_type": "code",
   "execution_count": 102,
   "id": "089edf84",
   "metadata": {},
   "outputs": [
    {
     "name": "stdout",
     "output_type": "stream",
     "text": [
      "941_S_6581\n"
     ]
    }
   ],
   "source": [
    "# check if the id is captured\n",
    "print(roots[-4][13:23])"
   ]
  },
  {
   "cell_type": "code",
   "execution_count": 110,
   "id": "541cfdd2",
   "metadata": {},
   "outputs": [],
   "source": [
    "full_ids = []\n",
    "for root in roots:\n",
    "    full_ids += [root[13:23]]"
   ]
  },
  {
   "attachments": {},
   "cell_type": "markdown",
   "id": "3f8b7027",
   "metadata": {},
   "source": [
    "use .compute_cell_sizes from pyvista to compute mesh volumes"
   ]
  },
  {
   "cell_type": "code",
   "execution_count": 116,
   "id": "c6db8f5d",
   "metadata": {},
   "outputs": [
    {
     "data": {
      "text/plain": [
       "pyvista_ndarray([0., 0., 0., ..., 0., 0., 0.])"
      ]
     },
     "execution_count": 116,
     "metadata": {},
     "output_type": "execute_result"
    }
   ],
   "source": [
    "cell_volumes = []\n",
    "for result_id in my_results_ids:\n",
    "    outer_mesh = pv.read(roots[full_ids.index(result_id)]+\"\\\\cortex.obj\")\n",
    "    sized = outer_mesh.compute_cell_sizes()\n",
    "    cell_volume = sized.cell_data[\"Volume\"]\n",
    "    cell_volumes += [cell_volume]"
   ]
  },
  {
   "cell_type": "code",
   "execution_count": 125,
   "id": "46d8ec15",
   "metadata": {},
   "outputs": [],
   "source": [
    "volume_list = []\n",
    "for cell in cell_volumes:\n",
    "    volume = len(cell)\n",
    "    volume_list.append(volume)"
   ]
  },
  {
   "cell_type": "code",
   "execution_count": 130,
   "id": "784d3a3b",
   "metadata": {},
   "outputs": [],
   "source": [
    "volume_result = pd.DataFrame(data = volume_predict)\n",
    "volume_result.to_csv('Volume_predict.csv', index=False)"
   ]
  },
  {
   "cell_type": "code",
   "execution_count": 49,
   "id": "a24c5837",
   "metadata": {},
   "outputs": [],
   "source": [
    "n = 0\n",
    "\n",
    "outer_mesh = o3d.io.read_triangle_mesh(roots[n]+\"\\\\cortex.obj\")\n",
    "#inner_mesh = o3d.io.read_triangle_mesh(roots[n]+\"\\\\scalp.obj\")\n",
    "\n",
    "o3d.visualization.draw_geometries([outer_mesh])\n"
   ]
  },
  {
   "attachments": {},
   "cell_type": "markdown",
   "id": "6403773c",
   "metadata": {},
   "source": [
    "The following function performs distance calculation. You need to pick a point with mouse and it will show the distance."
   ]
  },
  {
   "cell_type": "code",
   "execution_count": 37,
   "id": "c306b967",
   "metadata": {},
   "outputs": [],
   "source": [
    "n = 0"
   ]
  },
  {
   "cell_type": "code",
   "execution_count": 48,
   "id": "14278d6f",
   "metadata": {},
   "outputs": [
    {
     "name": "stdout",
     "output_type": "stream",
     "text": [
      "\n",
      "1) Please pick at least three correspondences using [shift + left click]\n",
      "   Press [shift + right click] to undo point picking\n",
      "2) Afther picking points, press q for close the window\n",
      "\n",
      "28\n"
     ]
    }
   ],
   "source": [
    "\n",
    "\n",
    "outer_mesh = o3d.io.read_triangle_mesh(roots[n]+\"\\\\scalp.obj\")\n",
    "inner_mesh = o3d.io.read_triangle_mesh(roots[n]+\"\\\\cortex.obj\")\n",
    "\n",
    "\n",
    "outer_mesh.compute_vertex_normals()\n",
    "outer_pcd = outer_mesh.sample_points_uniformly(number_of_points=500000)\n",
    "outer_pcd.paint_uniform_color([1, 0.706, 0])\n",
    "\n",
    "inner_mesh.compute_vertex_normals()\n",
    "inner_pcd = inner_mesh.sample_points_uniformly(number_of_points=500000)\n",
    "\n",
    "inner_tree = o3d.geometry.KDTreeFlann(inner_pcd)\n",
    "dists = []\n",
    "for i in range(len(outer_pcd.points)):\n",
    "    [k, idx, _] = inner_tree.search_knn_vector_3d(outer_pcd.points[i], 5)\n",
    "    dist = np.mean(np.linalg.norm(np.asarray(inner_pcd.points)[np.asarray(idx)] - outer_pcd.points[i], axis = 1))\n",
    "    if dist < 8:\n",
    "        dist = 8\n",
    "    elif dist > 18:\n",
    "        dist = 18\n",
    "    dists += [dist]\n",
    "dists = (np.asarray(dists)-min(dists))/(max(dists)-min(dists))\n",
    "\n",
    "for i in range(len(outer_pcd.points)):\n",
    "    if dists[i] <= 32/256:\n",
    "        r = 0\n",
    "        g = 0\n",
    "        b = 0.5 + 0.5*(dists[i]-0)/(32/256)\n",
    "    elif 32/256 * 1 < dists[i] <= 32/256 * 3:\n",
    "        r = 0\n",
    "        g = (dists[i] - 32/256)/(32/256) * 0.5\n",
    "        b = 1\n",
    "    elif 32/256 * 3 < dists[i] <= 32/256 * 5:\n",
    "        r = (dists[i] - 3*32/256)/(32/256) * 0.5\n",
    "        g = 1\n",
    "        b = 1 - r\n",
    "    elif 32/256 * 5 < dists[i] <= 32/256 * 7:\n",
    "        r = 1\n",
    "        g = (7*32/256 - dists[i])/(32/256) * 0.5\n",
    "        b = 0\n",
    "    else:\n",
    "        r = (8*32/256 - dists[i])/(32/256) * 0.5\n",
    "        g = 0\n",
    "        b = 0\n",
    "    np.asarray(outer_pcd.colors)[i, :] = [r, g, b]\n",
    "    \n",
    "results = pick_points(outer_pcd)\n",
    "for result in results:\n",
    "    print(8+18*dists[result])\n",
    "print(n)\n"
   ]
  },
  {
   "cell_type": "code",
   "execution_count": 47,
   "id": "d21334c4",
   "metadata": {},
   "outputs": [],
   "source": [
    "_list = [roots[n][13:23]]\n",
    "for result in results:\n",
    "    _list.append(1+10*dists[result])\n",
    "\n",
    " \n",
    "file = open('results_08_12_2022_SCD.csv', 'a', newline ='')\n",
    "with file:\n",
    "    # identifying header \n",
    "    header = ['ID', 'Gender', 'Age', 'Sphenoid_bone', 'Temporal_bone', 'Parietal_bone', 'Occipital_bone']\n",
    "    writer = csv.DictWriter(file, fieldnames = header)\n",
    "    #writer.writeheader()\n",
    "    writer.writerow({'ID' : _list[0],\n",
    "                     'Sphenoid_bone': _list[1],\n",
    "                     'Temporal_bone': _list[2],\n",
    "                     'Parietal_bone': _list[3],\n",
    "                     'Occipital_bone': _list[4]})\n",
    "n += 1"
   ]
  },
  {
   "attachments": {},
   "cell_type": "markdown",
   "id": "888d27ee",
   "metadata": {},
   "source": [
    "A helper to make colorbar"
   ]
  },
  {
   "cell_type": "code",
   "execution_count": 11,
   "id": "87c1b4cb",
   "metadata": {},
   "outputs": [
    {
     "data": {
      "image/png": "[encoded data removed]",
      "text/plain": [
       "<Figure size 1800x300 with 1 Axes>"
      ]
     },
     "metadata": {
      "needs_background": "light"
     },
     "output_type": "display_data"
    }
   ],
   "source": [
    "import matplotlib.pyplot as plt\n",
    "from matplotlib import cm\n",
    "import matplotlib as mpl\n",
    "\n",
    "plt.rcParams['figure.dpi'] = 300\n",
    "plt.rcParams['savefig.dpi'] = 300\n",
    "\n",
    "fig, ax = plt.subplots(figsize=(6, 1))\n",
    "fig.subplots_adjust(bottom=0.5)\n",
    "\n",
    "cmap = mpl.cm.jet\n",
    "norm = mpl.colors.Normalize(vmin=9, vmax=18)\n",
    "\n",
    "fig.colorbar(mpl.cm.ScalarMappable(norm=norm, cmap=cmap),\n",
    "             cax=ax, orientation='horizontal', label='Distance in mm', extend = 'both')\n",
    "\n",
    "fig.savefig('SCD_colorbar')"
   ]
  },
  {
   "cell_type": "code",
   "execution_count": 22,
   "id": "29b63b39",
   "metadata": {},
   "outputs": [],
   "source": [
    "outer = o3d.io.read_point_cloud('outer.ply')\n",
    "inner = o3d.io.read_point_cloud('inner.ply')"
   ]
  },
  {
   "cell_type": "code",
   "execution_count": 12,
   "id": "cf088ac5",
   "metadata": {},
   "outputs": [
    {
     "name": "stdout",
     "output_type": "stream",
     "text": [
      "\n",
      "1) Please pick at least three correspondences using [shift + left click]\n",
      "   Press [shift + right click] to undo point picking\n",
      "2) Afther picking points, press q for close the window\n",
      "[Open3D WARNING] GLFW Error: WGL: Failed to make context current: The handle is invalid. \n",
      "\n"
     ]
    },
    {
     "data": {
      "text/plain": [
       "[]"
      ]
     },
     "execution_count": 12,
     "metadata": {},
     "output_type": "execute_result"
    }
   ],
   "source": [
    "pick_points(outer)"
   ]
  },
  {
   "cell_type": "code",
   "execution_count": 23,
   "id": "d2e1cbbc",
   "metadata": {},
   "outputs": [
    {
     "data": {
      "text/plain": [
       "PointCloud with 5462 points."
      ]
     },
     "execution_count": 23,
     "metadata": {},
     "output_type": "execute_result"
    }
   ],
   "source": [
    "outer.paint_uniform_color([.5, .5, .5])\n",
    "inner.paint_uniform_color([.5, .5, .5])"
   ]
  },
  {
   "cell_type": "code",
   "execution_count": 10,
   "id": "8bdc2013",
   "metadata": {},
   "outputs": [
    {
     "data": {
      "application/vnd.jupyter.widget-view+json": {
       "model_id": "e66a7b569d434164bed53a17281eecc6",
       "version_major": 2,
       "version_minor": 0
      },
      "text/plain": [
       "ViewInteractiveWidget(height=768, layout=Layout(height='auto', width='100%'), width=1024)"
      ]
     },
     "metadata": {},
     "output_type": "display_data"
    }
   ],
   "source": [
    "phantom = pv.read(\"SKULL FINAL.stl\")\n",
    "vessel = pv.read(\"Stroke Vessels FINAl copped_more.stl\")\n",
    "\n",
    "\n",
    "p = pv.Plotter()\n",
    "p.add_mesh(phantom,\n",
    "           color = [0.3, 0.3, 0.3],\n",
    "            opacity = 0.4)\n",
    "p.add_mesh(vessel, color = 'r')\n",
    "p.set_background('white')\n",
    "p.show()"
   ]
  },
  {
   "cell_type": "code",
   "execution_count": 8,
   "id": "c3fb28cc",
   "metadata": {},
   "outputs": [
    {
     "data": {
      "text/plain": [
       "WindowsPath('/updated_ANDI/012_S_4642/MPRAGE_SENSE2/2012-04-10_14_38_38.0/I296876/scalp.obj')"
      ]
     },
     "execution_count": 8,
     "metadata": {},
     "output_type": "execute_result"
    }
   ],
   "source": [
    "test_path = \"\\\\updated_ANDI\\\\012_S_4642\\\\MPRAGE_SENSE2\\\\2012-04-10_14_38_38.0\\\\I296876\"\n",
    "from pathlib import Path\n",
    "p = Path(test_path + '\\\\scalp.wfo')\n",
    "p.rename(p.with_suffix('.obj'))"
   ]
  }
 ],
 "metadata": {
  "kernelspec": {
   "display_name": "Python 3.9.12 ('base')",
   "language": "python",
   "name": "python3"
  },
  "language_info": {
   "codemirror_mode": {
    "name": "ipython",
    "version": 3
   },
   "file_extension": ".py",
   "mimetype": "text/x-python",
   "name": "python",
   "nbconvert_exporter": "python",
   "pygments_lexer": "ipython3",
   "version": "3.9.12"
  },
  "vscode": {
   "interpreter": {
    "hash": "311f907d92d52f00dd9f960d062c95d0780c062d25cb27b9050aacf336a9dbd1"
   }
  }
 },
 "nbformat": 4,
 "nbformat_minor": 5
}
